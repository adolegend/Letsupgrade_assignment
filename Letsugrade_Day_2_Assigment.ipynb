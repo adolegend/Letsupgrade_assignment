{
  "nbformat": 4,
  "nbformat_minor": 0,
  "metadata": {
    "colab": {
      "name": "Letsugrade Day-2 Assigment",
      "provenance": [],
      "collapsed_sections": []
    },
    "kernelspec": {
      "display_name": "Python 3",
      "name": "python3"
    }
  },
  "cells": [
    {
      "cell_type": "markdown",
      "metadata": {
        "id": "BMD2WMxatOeS"
      },
      "source": [
        "# Question 1"
      ]
    },
    {
      "cell_type": "markdown",
      "metadata": {
        "id": "Ka3ZaYD_tWHn"
      },
      "source": [
        "Try 5 Different functions of the String in Python"
      ]
    },
    {
      "cell_type": "code",
      "metadata": {
        "id": "En6uXDHWttRA"
      },
      "source": [
        "my_name=\"ado ahmed\""
      ],
      "execution_count": 1,
      "outputs": []
    },
    {
      "cell_type": "code",
      "metadata": {
        "id": "CnBLxNN5u-s_"
      },
      "source": [
        "my_address=\"KADUNA NIGERIA\""
      ],
      "execution_count": 2,
      "outputs": []
    },
    {
      "cell_type": "code",
      "metadata": {
        "colab": {
          "base_uri": "https://localhost:8080/"
        },
        "id": "DC4YL4qUzOgY",
        "outputId": "3b1f1a22-ecdb-472f-df40-3fb235689dc1"
      },
      "source": [
        "print(my_name); print(my_address)"
      ],
      "execution_count": 3,
      "outputs": [
        {
          "output_type": "stream",
          "text": [
            "ado ahmed\n",
            "KADUNA NIGERIA\n"
          ],
          "name": "stdout"
        }
      ]
    },
    {
      "cell_type": "code",
      "metadata": {
        "colab": {
          "base_uri": "https://localhost:8080/",
          "height": 34
        },
        "id": "nMEHzoGOzpsY",
        "outputId": "f9e5fe54-cdbf-413d-9af9-7ab3c5b01914"
      },
      "source": [
        "my_name.capitalize()"
      ],
      "execution_count": 4,
      "outputs": [
        {
          "output_type": "execute_result",
          "data": {
            "application/vnd.google.colaboratory.intrinsic+json": {
              "type": "string"
            },
            "text/plain": [
              "'Ado ahmed'"
            ]
          },
          "metadata": {
            "tags": []
          },
          "execution_count": 4
        }
      ]
    },
    {
      "cell_type": "code",
      "metadata": {
        "colab": {
          "base_uri": "https://localhost:8080/",
          "height": 34
        },
        "id": "EBQzbBV31DlY",
        "outputId": "07732613-a90c-4a02-b25a-3ab2bf55ae5e"
      },
      "source": [
        "my_address.lower()"
      ],
      "execution_count": 5,
      "outputs": [
        {
          "output_type": "execute_result",
          "data": {
            "application/vnd.google.colaboratory.intrinsic+json": {
              "type": "string"
            },
            "text/plain": [
              "'kaduna nigeria'"
            ]
          },
          "metadata": {
            "tags": []
          },
          "execution_count": 5
        }
      ]
    },
    {
      "cell_type": "code",
      "metadata": {
        "colab": {
          "base_uri": "https://localhost:8080/",
          "height": 34
        },
        "id": "ooe73MvM2e6v",
        "outputId": "2e018bd7-c335-418b-96b1-17b67cc64f31"
      },
      "source": [
        "my_name.title()"
      ],
      "execution_count": 6,
      "outputs": [
        {
          "output_type": "execute_result",
          "data": {
            "application/vnd.google.colaboratory.intrinsic+json": {
              "type": "string"
            },
            "text/plain": [
              "'Ado Ahmed'"
            ]
          },
          "metadata": {
            "tags": []
          },
          "execution_count": 6
        }
      ]
    },
    {
      "cell_type": "code",
      "metadata": {
        "colab": {
          "base_uri": "https://localhost:8080/",
          "height": 34
        },
        "id": "qdGgxKo73mu_",
        "outputId": "ccce94ab-06ec-4893-8050-8bb2921fa30f"
      },
      "source": [
        "my_name.upper()"
      ],
      "execution_count": 7,
      "outputs": [
        {
          "output_type": "execute_result",
          "data": {
            "application/vnd.google.colaboratory.intrinsic+json": {
              "type": "string"
            },
            "text/plain": [
              "'ADO AHMED'"
            ]
          },
          "metadata": {
            "tags": []
          },
          "execution_count": 7
        }
      ]
    },
    {
      "cell_type": "code",
      "metadata": {
        "colab": {
          "base_uri": "https://localhost:8080/",
          "height": 34
        },
        "id": "9JUB82ZO4mwJ",
        "outputId": "d66ca19a-6a9f-4a4d-a4db-c875063fbd96"
      },
      "source": [
        "my_address.replace(\"KADUNA\",\"KANO\")"
      ],
      "execution_count": 8,
      "outputs": [
        {
          "output_type": "execute_result",
          "data": {
            "application/vnd.google.colaboratory.intrinsic+json": {
              "type": "string"
            },
            "text/plain": [
              "'KANO NIGERIA'"
            ]
          },
          "metadata": {
            "tags": []
          },
          "execution_count": 8
        }
      ]
    },
    {
      "cell_type": "code",
      "metadata": {
        "colab": {
          "base_uri": "https://localhost:8080/"
        },
        "id": "hIuL3Mag6A1N",
        "outputId": "e45ba0d4-442f-4467-a292-338b4a2f99fb"
      },
      "source": [
        "print(my_name.upper()); print(my_address.replace(\"KADUNA\",\"KANO\"))"
      ],
      "execution_count": 9,
      "outputs": [
        {
          "output_type": "stream",
          "text": [
            "ADO AHMED\n",
            "KANO NIGERIA\n"
          ],
          "name": "stdout"
        }
      ]
    },
    {
      "cell_type": "markdown",
      "metadata": {
        "id": "UclnfqoY7sM8"
      },
      "source": [
        "# Question 2"
      ]
    },
    {
      "cell_type": "markdown",
      "metadata": {
        "id": "rXLghATz7_TS"
      },
      "source": [
        "Try 5 different functions of the list object in python"
      ]
    },
    {
      "cell_type": "code",
      "metadata": {
        "id": "DU2etCMw--ly"
      },
      "source": [
        "cars=[\"bmw\", \"toyota\", \"honda\", \"audi\", \"lexus\", \"kia\", \"suzuki\"]"
      ],
      "execution_count": 10,
      "outputs": []
    },
    {
      "cell_type": "code",
      "metadata": {
        "id": "Z2cmkBQzZCw_"
      },
      "source": [
        "countries=[\"China\", \"USA\", \"England\"]"
      ],
      "execution_count": 11,
      "outputs": []
    },
    {
      "cell_type": "code",
      "metadata": {
        "id": "4n77y_QJPCjb"
      },
      "source": [
        "cars.sort()"
      ],
      "execution_count": 12,
      "outputs": []
    },
    {
      "cell_type": "code",
      "metadata": {
        "colab": {
          "base_uri": "https://localhost:8080/"
        },
        "id": "VlQViEdFRxSH",
        "outputId": "e995f0df-3062-481e-f5ac-1d3082cba096"
      },
      "source": [
        "print(cars)"
      ],
      "execution_count": 13,
      "outputs": [
        {
          "output_type": "stream",
          "text": [
            "['audi', 'bmw', 'honda', 'kia', 'lexus', 'suzuki', 'toyota']\n"
          ],
          "name": "stdout"
        }
      ]
    },
    {
      "cell_type": "code",
      "metadata": {
        "colab": {
          "base_uri": "https://localhost:8080/"
        },
        "id": "-xkd0Fu0So9q",
        "outputId": "d81f785d-8a00-4778-a558-3dbd4aa5010b"
      },
      "source": [
        "cars.count(\"honda\")"
      ],
      "execution_count": 14,
      "outputs": [
        {
          "output_type": "execute_result",
          "data": {
            "text/plain": [
              "1"
            ]
          },
          "metadata": {
            "tags": []
          },
          "execution_count": 14
        }
      ]
    },
    {
      "cell_type": "code",
      "metadata": {
        "id": "uNqIro94UDjp"
      },
      "source": [
        "cars.reverse()"
      ],
      "execution_count": 15,
      "outputs": []
    },
    {
      "cell_type": "code",
      "metadata": {
        "colab": {
          "base_uri": "https://localhost:8080/"
        },
        "id": "QC3IvGb2VY8a",
        "outputId": "22c7ac0d-e690-44a6-c3e0-149ca13bbac0"
      },
      "source": [
        "print(cars)"
      ],
      "execution_count": 16,
      "outputs": [
        {
          "output_type": "stream",
          "text": [
            "['toyota', 'suzuki', 'lexus', 'kia', 'honda', 'bmw', 'audi']\n"
          ],
          "name": "stdout"
        }
      ]
    },
    {
      "cell_type": "code",
      "metadata": {
        "colab": {
          "base_uri": "https://localhost:8080/"
        },
        "id": "wPADldIiXD_8",
        "outputId": "5ef665ef-df46-41e7-fc4a-bd349e811109"
      },
      "source": [
        "cars.index(\"lexus\")"
      ],
      "execution_count": 17,
      "outputs": [
        {
          "output_type": "execute_result",
          "data": {
            "text/plain": [
              "2"
            ]
          },
          "metadata": {
            "tags": []
          },
          "execution_count": 17
        }
      ]
    },
    {
      "cell_type": "code",
      "metadata": {
        "id": "-5v2fALfYjWg"
      },
      "source": [
        "cars.extend(countries)"
      ],
      "execution_count": 18,
      "outputs": []
    },
    {
      "cell_type": "code",
      "metadata": {
        "colab": {
          "base_uri": "https://localhost:8080/"
        },
        "id": "vYAY7wiBY73Y",
        "outputId": "456d5545-6eb3-49e8-9755-3a16dca7d587"
      },
      "source": [
        "print(cars)"
      ],
      "execution_count": 19,
      "outputs": [
        {
          "output_type": "stream",
          "text": [
            "['toyota', 'suzuki', 'lexus', 'kia', 'honda', 'bmw', 'audi', 'China', 'USA', 'England']\n"
          ],
          "name": "stdout"
        }
      ]
    },
    {
      "cell_type": "markdown",
      "metadata": {
        "id": "HRotKI7_bPLa"
      },
      "source": [
        "# Question 3"
      ]
    },
    {
      "cell_type": "markdown",
      "metadata": {
        "id": "DPRYqp5bbZ5-"
      },
      "source": [
        "Experiment with atleast 5 functions of "
      ]
    },
    {
      "cell_type": "code",
      "metadata": {
        "id": "gjulgkh5cNhS"
      },
      "source": [
        "my_details={\"name\":\"Ahmed\",\"age\":30,\"blood group\":\"-A\",\"country\":\"Nigeria\"}"
      ],
      "execution_count": 20,
      "outputs": []
    },
    {
      "cell_type": "code",
      "metadata": {
        "colab": {
          "base_uri": "https://localhost:8080/",
          "height": 34
        },
        "id": "SX0UArSfeSUE",
        "outputId": "6b8326d9-a72c-47fc-ca95-fd3ff083e0e8"
      },
      "source": [
        "my_details.get(\"name\")"
      ],
      "execution_count": 21,
      "outputs": [
        {
          "output_type": "execute_result",
          "data": {
            "application/vnd.google.colaboratory.intrinsic+json": {
              "type": "string"
            },
            "text/plain": [
              "'Ahmed'"
            ]
          },
          "metadata": {
            "tags": []
          },
          "execution_count": 21
        }
      ]
    },
    {
      "cell_type": "code",
      "metadata": {
        "id": "JDXHikqYikck"
      },
      "source": [
        "my_details.update({\"shoes size\":45})"
      ],
      "execution_count": 22,
      "outputs": []
    },
    {
      "cell_type": "code",
      "metadata": {
        "colab": {
          "base_uri": "https://localhost:8080/"
        },
        "id": "dMzumB6xkGnH",
        "outputId": "70a05d66-f2d1-4331-95cb-04804e848881"
      },
      "source": [
        "print(my_details)"
      ],
      "execution_count": 23,
      "outputs": [
        {
          "output_type": "stream",
          "text": [
            "{'name': 'Ahmed', 'age': 30, 'blood group': '-A', 'country': 'Nigeria', 'shoes size': 45}\n"
          ],
          "name": "stdout"
        }
      ]
    },
    {
      "cell_type": "code",
      "metadata": {
        "colab": {
          "base_uri": "https://localhost:8080/"
        },
        "id": "xxWWDgugkY6M",
        "outputId": "1bc9ee86-8211-45b6-f3d9-11e460869d79"
      },
      "source": [
        "my_details.keys()"
      ],
      "execution_count": 24,
      "outputs": [
        {
          "output_type": "execute_result",
          "data": {
            "text/plain": [
              "dict_keys(['name', 'age', 'blood group', 'country', 'shoes size'])"
            ]
          },
          "metadata": {
            "tags": []
          },
          "execution_count": 24
        }
      ]
    },
    {
      "cell_type": "code",
      "metadata": {
        "colab": {
          "base_uri": "https://localhost:8080/"
        },
        "id": "T0ZBUilZljGK",
        "outputId": "419ddbd7-9c82-4706-9253-a1f0ac6ee605"
      },
      "source": [
        "my_details.items()"
      ],
      "execution_count": 25,
      "outputs": [
        {
          "output_type": "execute_result",
          "data": {
            "text/plain": [
              "dict_items([('name', 'Ahmed'), ('age', 30), ('blood group', '-A'), ('country', 'Nigeria'), ('shoes size', 45)])"
            ]
          },
          "metadata": {
            "tags": []
          },
          "execution_count": 25
        }
      ]
    },
    {
      "cell_type": "code",
      "metadata": {
        "colab": {
          "base_uri": "https://localhost:8080/",
          "height": 34
        },
        "id": "X0alfB73nUeU",
        "outputId": "73e6477e-985e-406a-a7e1-7fbaa4d0269b"
      },
      "source": [
        "my_details.pop(\"blood group\")"
      ],
      "execution_count": 26,
      "outputs": [
        {
          "output_type": "execute_result",
          "data": {
            "application/vnd.google.colaboratory.intrinsic+json": {
              "type": "string"
            },
            "text/plain": [
              "'-A'"
            ]
          },
          "metadata": {
            "tags": []
          },
          "execution_count": 26
        }
      ]
    },
    {
      "cell_type": "code",
      "metadata": {
        "colab": {
          "base_uri": "https://localhost:8080/"
        },
        "id": "t7lMJYjfn6hE",
        "outputId": "27c14779-ae50-495d-94a5-70eddffb2da5"
      },
      "source": [
        "print(my_details)"
      ],
      "execution_count": 27,
      "outputs": [
        {
          "output_type": "stream",
          "text": [
            "{'name': 'Ahmed', 'age': 30, 'country': 'Nigeria', 'shoes size': 45}\n"
          ],
          "name": "stdout"
        }
      ]
    }
  ]
}